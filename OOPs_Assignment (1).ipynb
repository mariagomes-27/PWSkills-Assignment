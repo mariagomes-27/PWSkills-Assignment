{
  "nbformat": 4,
  "nbformat_minor": 0,
  "metadata": {
    "colab": {
      "provenance": []
    },
    "kernelspec": {
      "name": "python3",
      "display_name": "Python 3"
    },
    "language_info": {
      "name": "python"
    }
  },
  "cells": [
    {
      "cell_type": "markdown",
      "source": [
        "#### PW Skills – Python OOPs Assignment\n",
        "### Student Name: Maria Gomes\n",
        "### Batch: Data Analytics"
      ],
      "metadata": {
        "id": "23bDzKFDWwWm"
      }
    },
    {
      "cell_type": "markdown",
      "source": [
        "### Q1. What is Object-Oriented Programming (OOP)?\n",
        "\n",
        "**Answer:**  \n",
        "Object-Oriented Programming (OOP) is a programming paradigm that organizes code into **objects**, which are instances of classes.  \n",
        "It focuses on real-world concepts like **inheritance, encapsulation, polymorphism, and abstraction**.  \n",
        "OOP makes code **modular, reusable, and easier to maintain**.\n"
      ],
      "metadata": {
        "id": "C7lDXl68Cvjp"
      }
    },
    {
      "cell_type": "markdown",
      "source": [
        "### Q2. What is a class in OOP?\n",
        "\n",
        "**Answer:**  \n",
        "A **class** is a blueprint or template that defines the properties (attributes) and behaviors (methods) of objects.  \n",
        "It does not hold actual data, but provides the structure for creating objects.  \n",
        "\n",
        "**Code (Python Example):**"
      ],
      "metadata": {
        "id": "vXItRLqsDSbQ"
      }
    },
    {
      "cell_type": "code",
      "source": [
        "class Car:\n",
        "    def __init__(self, brand, model):\n",
        "        self.brand = brand\n",
        "        self.model = model\n"
      ],
      "metadata": {
        "id": "bqyvzVGwDe_P"
      },
      "execution_count": null,
      "outputs": []
    },
    {
      "cell_type": "markdown",
      "source": [
        "\n",
        "### Q3. What is an object in OOP?\n",
        "\n",
        "**Answer:**  \n",
        "An **object** is an instance of a class.  \n",
        "It represents a real-world entity with actual values for the attributes defined in the class.  \n",
        "\n",
        "**Code (Python Example):**\n"
      ],
      "metadata": {
        "id": "i9l9sLkXD6hP"
      }
    },
    {
      "cell_type": "code",
      "source": [
        "my_car = Car(\"Toyota\", \"Corolla\")\n",
        "print(my_car.brand)"
      ],
      "metadata": {
        "colab": {
          "base_uri": "https://localhost:8080/"
        },
        "id": "gjS8dA9fEAHH",
        "outputId": "30043db5-cab8-42a4-b179-3aea87a132db"
      },
      "execution_count": null,
      "outputs": [
        {
          "output_type": "stream",
          "name": "stdout",
          "text": [
            "Toyota\n"
          ]
        }
      ]
    },
    {
      "cell_type": "markdown",
      "source": [
        "\n",
        "---\n",
        "\n",
        "### Q4. What is the difference between Abstraction and Encapsulation?\n",
        "\n",
        "**Answer:**  \n",
        "\n",
        "| Feature        | Abstraction | Encapsulation |\n",
        "|----------------|-------------|---------------|\n",
        "| **Definition** | Hides implementation details and shows only functionality. | Wraps data and methods into a single unit (class). |\n",
        "| **Focus**      | Focuses on *what* a system does. | Focuses on *how* data and methods are protected. |\n",
        "| **Example**    | Abstract classes / Interfaces | Private variables and getter/setter methods |\n",
        "\n",
        "---\n",
        "\n",
        "### Q5. What are dunder methods in Python?\n",
        "\n",
        "**Answer:**  \n",
        "Dunder (double underscore) methods are **special methods in Python** that start and end with double underscores.  \n",
        "They are also called **magic methods**, used to define the behavior of objects for built-in operations.  \n",
        "\n",
        "**Common examples:**  \n",
        "- `__init__` → constructor (initializes objects)  \n",
        "- `__str__` → string representation  \n",
        "- `__len__` → length of object  \n",
        "- `__add__` → overloads the `+` operator  \n",
        "\n",
        "**Code (Python Example):**\n"
      ],
      "metadata": {
        "id": "TxKUVNwlECy3"
      }
    },
    {
      "cell_type": "code",
      "source": [
        "class Book:\n",
        "    def __init__(self, title):\n",
        "        self.title = title\n",
        "\n",
        "    def __str__(self):\n",
        "        return f\"Book: {self.title}\"\n",
        "\n",
        "b = Book(\"Python Basics\")\n",
        "print(b)\n"
      ],
      "metadata": {
        "colab": {
          "base_uri": "https://localhost:8080/"
        },
        "id": "kqLXdG7tEJXr",
        "outputId": "ebe93a42-10a7-400d-9f74-5f367df9f097"
      },
      "execution_count": null,
      "outputs": [
        {
          "output_type": "stream",
          "name": "stdout",
          "text": [
            "Book: Python Basics\n"
          ]
        }
      ]
    },
    {
      "cell_type": "markdown",
      "source": [
        "\n",
        "---\n",
        "\n",
        "### Q6. Explain the concept of Inheritance in OOP.\n",
        "\n",
        "**Answer:**  \n",
        "**Inheritance** allows one class (child/derived class) to reuse the properties and methods of another class (parent/base class).  \n",
        "It promotes **code reusability** and establishes relationships between classes.  \n",
        "\n",
        "**Types of inheritance in Python:**  \n",
        "- Single Inheritance  \n",
        "- Multiple Inheritance  \n",
        "- Multilevel Inheritance  \n",
        "- Hierarchical Inheritance  \n",
        "\n",
        "**Code (Python Example):**\n"
      ],
      "metadata": {
        "id": "mnDO_kEuEP7c"
      }
    },
    {
      "cell_type": "code",
      "source": [
        "class Animal:\n",
        "    def sound(self):\n",
        "        return \"Some sound\"\n",
        "\n",
        "class Dog(Animal):\n",
        "    def sound(self):\n",
        "        return \"Bark\"\n",
        "\n",
        "d = Dog()\n",
        "print(d.sound())\n"
      ],
      "metadata": {
        "colab": {
          "base_uri": "https://localhost:8080/"
        },
        "id": "7ecmhCZIETZz",
        "outputId": "3d073979-9bc8-48db-e056-edda0d84de1c"
      },
      "execution_count": null,
      "outputs": [
        {
          "output_type": "stream",
          "name": "stdout",
          "text": [
            "Bark\n"
          ]
        }
      ]
    },
    {
      "cell_type": "markdown",
      "source": [
        "---\n",
        "\n",
        "### Q7. What is Polymorphism in OOP?\n",
        "\n",
        "**Answer:**  \n",
        "Polymorphism means *one name, many forms*.  \n",
        "It allows objects of different classes to respond to the same method name in different ways.  \n",
        "\n",
        "**Example:**  \n",
        "- The `+` operator adds numbers but also concatenates strings.  \n",
        "- A parent class method can behave differently in child classes."
      ],
      "metadata": {
        "id": "N-v-az_oFBCi"
      }
    },
    {
      "cell_type": "markdown",
      "source": [
        "### Q.8 How is Encapsulation achieved in Python?\n",
        "\n",
        "**Answer:**  \n",
        "Encapsulation is achieved in Python by **restricting access to variables and methods** using access modifiers:  \n",
        "- Public: accessible everywhere  \n",
        "- Protected (`_variable`): accessible within the class and subclasses  \n",
        "- Private (`__variable`): accessible only within the class  \n",
        "\n",
        "**Encapsulation is also supported by getter and setter methods.**  \n"
      ],
      "metadata": {
        "id": "BAy8pPqtFzFy"
      }
    },
    {
      "cell_type": "markdown",
      "source": [
        "### Q9. What is a Constructor in Python?\n",
        "\n",
        "**Answer:**  \n",
        "A constructor is a special method called **`__init__`** that is automatically executed when an object of a class is created.  \n",
        "It is used to initialize object attributes.  \n",
        "\n",
        "**Code Example:**  \n",
        "```python\n",
        "class Student:\n",
        "    def __init__(self, name, roll_no):\n",
        "        self.name = name\n",
        "        self.roll_no = roll_no\n",
        "\n",
        "s1 = Student(\"Maria\", 101)\n",
        "print(s1.name)"
      ],
      "metadata": {
        "id": "f9vayAlrF7LV"
      }
    },
    {
      "cell_type": "code",
      "source": [
        "class Student:\n",
        "    def __init__(self, name, roll_no):\n",
        "        self.name = name\n",
        "        self.roll_no = roll_no\n",
        "\n",
        "s1 = Student(\"Maria\", 101)\n",
        "print(s1.name)"
      ],
      "metadata": {
        "colab": {
          "base_uri": "https://localhost:8080/"
        },
        "id": "Ay7lA66mF_vX",
        "outputId": "2e72e294-4ec4-405b-8697-a446c0c978d9"
      },
      "execution_count": null,
      "outputs": [
        {
          "output_type": "stream",
          "name": "stdout",
          "text": [
            "Maria\n"
          ]
        }
      ]
    },
    {
      "cell_type": "markdown",
      "source": [
        "### Q10. What are Class and Static Methods in Python?\n",
        "\n",
        "**Answer:**  \n",
        "- **Class Method:**  \n",
        "  Defined using `@classmethod`.  \n",
        "  It takes `cls` as the first argument and can access/modify class variables.  \n",
        "\n",
        "- **Static Method:**  \n",
        "  Defined using `@staticmethod`.  \n",
        "  It does not take `self` or `cls`. It’s like a normal function inside a class.  \n",
        "\n",
        "**Code Example:**  "
      ],
      "metadata": {
        "id": "jMz6XRNlGEnt"
      }
    },
    {
      "cell_type": "code",
      "source": [
        "class Example:\n",
        "    class_var = \"Class Variable\"\n",
        "\n",
        "    @classmethod\n",
        "    def show_class_var(cls):\n",
        "        return cls.class_var\n",
        "\n",
        "    @staticmethod\n",
        "    def greet():\n",
        "        return \"Hello from static method!\"\n",
        "\n",
        "print(Example.show_class_var())\n",
        "print(Example.greet())"
      ],
      "metadata": {
        "colab": {
          "base_uri": "https://localhost:8080/"
        },
        "id": "PbwTRlC9H37K",
        "outputId": "022a6680-963c-4587-d1e7-142ea8635022"
      },
      "execution_count": null,
      "outputs": [
        {
          "output_type": "stream",
          "name": "stdout",
          "text": [
            "Class Variable\n",
            "Hello from static method!\n"
          ]
        }
      ]
    },
    {
      "cell_type": "markdown",
      "source": [
        "---\n",
        "\n",
        "### Q11. What is Method Overloading in Python?\n",
        "\n",
        "**Answer:**  \n",
        "Method overloading means defining multiple methods with the **same name but different parameters**.  \n",
        "Python does not support it directly, but it can be **achieved using default arguments** or `*args`.  \n",
        "\n",
        "**Code Example:**  "
      ],
      "metadata": {
        "id": "GKU3b0K4IAyN"
      }
    },
    {
      "cell_type": "code",
      "source": [
        "class Math:\n",
        "    def add(self, a, b=0, c=0):\n",
        "        return a + b + c\n",
        "\n",
        "m = Math()\n",
        "print(m.add(2))       # 2\n",
        "print(m.add(2, 3))    # 5\n",
        "print(m.add(2, 3, 4)) # 9"
      ],
      "metadata": {
        "colab": {
          "base_uri": "https://localhost:8080/"
        },
        "id": "Qq53prsEIK13",
        "outputId": "e2f0ea66-0091-4604-aaa3-c1fc00fbcfc2"
      },
      "execution_count": null,
      "outputs": [
        {
          "output_type": "stream",
          "name": "stdout",
          "text": [
            "2\n",
            "5\n",
            "9\n"
          ]
        }
      ]
    },
    {
      "cell_type": "markdown",
      "source": [
        "---\n",
        "\n",
        "### Q12. What is Method Overriding in OOP?\n",
        "\n",
        "**Answer:**  \n",
        "Method overriding allows a **child class** to provide a new implementation of a method that is already defined in the **parent class**.  \n",
        "\n",
        "**Code Example:**\n"
      ],
      "metadata": {
        "id": "tE-B7XuBITdw"
      }
    },
    {
      "cell_type": "code",
      "source": [
        "class Animal:\n",
        "    def sound(self):\n",
        "        return \"Some sound\"\n",
        "\n",
        "class Dog(Animal):\n",
        "    def sound(self):\n",
        "        return \"Bark\"\n",
        "\n",
        "d = Dog()\n",
        "print(d.sound())"
      ],
      "metadata": {
        "colab": {
          "base_uri": "https://localhost:8080/"
        },
        "id": "4c5QziFcInYi",
        "outputId": "30b5b11c-f0cf-4e21-9038-41bc63c05265"
      },
      "execution_count": null,
      "outputs": [
        {
          "output_type": "stream",
          "name": "stdout",
          "text": [
            "Bark\n"
          ]
        }
      ]
    },
    {
      "cell_type": "markdown",
      "source": [
        "### Q13 What is a Property Decorator in Python?\n",
        "\n",
        "**Answer:**\n",
        "A property decorator (@property) is used to make a method act like an attribute.\n",
        "It allows getter, setter, and deleter functionality in a Pythonic way.\n",
        "\n",
        "**Code Example**"
      ],
      "metadata": {
        "id": "Kwk4jobgI63x"
      }
    },
    {
      "cell_type": "code",
      "source": [
        "class Student:\n",
        "    def __init__(self, name):\n",
        "        self._name = name\n",
        "\n",
        "    @property\n",
        "    def name(self):\n",
        "        return self._name\n",
        "\n",
        "    @name.setter\n",
        "    def name(self, value):\n",
        "        self._name = value\n",
        "\n",
        "s = Student(\"Maria\")\n",
        "print(s.name)   # Getter\n",
        "s.name = \"Alex\" # Setter\n",
        "print(s.name)"
      ],
      "metadata": {
        "colab": {
          "base_uri": "https://localhost:8080/"
        },
        "id": "cKPl80ocJKO5",
        "outputId": "d326423e-6d4c-4ed2-c177-de4785db6319"
      },
      "execution_count": null,
      "outputs": [
        {
          "output_type": "stream",
          "name": "stdout",
          "text": [
            "Maria\n",
            "Alex\n"
          ]
        }
      ]
    },
    {
      "cell_type": "markdown",
      "source": [
        "### Q14 Why is Polymorphism important in OOP?\n",
        "\n",
        "**Answer:**\n",
        "\n",
        "Polymorphism is important because it:\n",
        "\n",
        "Increases flexibility of code.\n",
        "\n",
        "Allows code reusability.\n",
        "\n",
        "Makes programs more readable and maintainable.\n",
        "\n",
        "Enables method overriding in child classes."
      ],
      "metadata": {
        "id": "-i_TGokGJRRa"
      }
    },
    {
      "cell_type": "markdown",
      "source": [
        "###Q15. What is an Abstract Class in Python?\n",
        "\n",
        "**Answer:**\n",
        "An abstract class is a class that cannot be instantiated directly.\n",
        "It contains one or more abstract methods (methods without implementation).\n",
        "It is defined using the abc module.\n",
        "\n",
        "**Code Example**"
      ],
      "metadata": {
        "id": "lmg1-xeLJZLl"
      }
    },
    {
      "cell_type": "code",
      "source": [
        "from abc import ABC, abstractmethod\n",
        "\n",
        "class Animal(ABC):\n",
        "    @abstractmethod\n",
        "    def sound(self):\n",
        "        pass\n",
        "\n",
        "class Dog(Animal):\n",
        "    def sound(self):\n",
        "        return \"Bark\"\n",
        "\n",
        "d = Dog()\n",
        "print(d.sound())"
      ],
      "metadata": {
        "colab": {
          "base_uri": "https://localhost:8080/"
        },
        "id": "KA7vMopSKHDz",
        "outputId": "0af09faa-a237-4d8e-a7a1-c440830d8bc5"
      },
      "execution_count": null,
      "outputs": [
        {
          "output_type": "stream",
          "name": "stdout",
          "text": [
            "Bark\n"
          ]
        }
      ]
    },
    {
      "cell_type": "markdown",
      "source": [
        "---\n",
        "\n",
        "### Q16. What are the advantages of OOP?\n",
        "\n",
        "**Answer:**  \n",
        "The main advantages of Object-Oriented Programming (OOP) are:  \n",
        "1. **Code Reusability** → Inheritance allows reusing existing code.  \n",
        "2. **Modularity** → Code is divided into classes and objects, making it organized.  \n",
        "3. **Encapsulation** → Data is protected and accessed only through methods.  \n",
        "4. **Polymorphism** → Same method name can have different implementations.  \n",
        "5. **Maintainability** → Easier to debug, extend, and update.  \n",
        "6. **Real-world Modeling** → Objects represent real-world entities.  \n",
        "\n",
        "---\n",
        "\n",
        "### Q17. What is the difference between a class variable and an instance variable?\n",
        "\n",
        "**Answer:**  \n",
        "\n",
        "| Feature             | Class Variable | Instance Variable |\n",
        "|---------------------|----------------|------------------|\n",
        "| **Definition**      | Shared across all objects of the class. | Unique for each object (specific to that instance). |\n",
        "| **Declaration**     | Defined inside the class but outside methods. | Defined inside methods using `self`. |\n",
        "| **Access**          | Accessed using `ClassName.variable` or `self.variable`. | Accessed only using `self.variable`. |\n",
        "\n",
        "**Code Example:**\n"
      ],
      "metadata": {
        "id": "blhgHGm0LJnV"
      }
    },
    {
      "cell_type": "code",
      "source": [
        "class Student:\n",
        "    school = \"PW Skills\"   # Class variable\n",
        "\n",
        "    def __init__(self, name):\n",
        "        self.name = name   # Instance variable\n",
        "\n",
        "s1 = Student(\"Maria\")\n",
        "s2 = Student(\"Alex\")\n",
        "\n",
        "print(s1.school)   # PW Skills (shared)\n",
        "print(s2.school)   # PW Skills\n",
        "print(s1.name)     # Maria (unique to s1)\n",
        "print(s2.name)     # Alex (unique to s2)"
      ],
      "metadata": {
        "colab": {
          "base_uri": "https://localhost:8080/"
        },
        "id": "0RjpaULPLRmW",
        "outputId": "b3e7d865-28f0-4830-dcf8-00adb575c312"
      },
      "execution_count": null,
      "outputs": [
        {
          "output_type": "stream",
          "name": "stdout",
          "text": [
            "PW Skills\n",
            "PW Skills\n",
            "Maria\n",
            "Alex\n"
          ]
        }
      ]
    },
    {
      "cell_type": "markdown",
      "source": [
        "### Q 18 What is Multiple Inheritance in Python?\n",
        "\n",
        "Answer:\n",
        "Multiple inheritance is when a child class inherits from more than one parent class.\n",
        "Python supports multiple inheritance, but it must be handled carefully to avoid conflicts.\n",
        "\n",
        "**Code Example:**"
      ],
      "metadata": {
        "id": "OxC87kfHLbv8"
      }
    },
    {
      "cell_type": "code",
      "source": [
        "class Father:\n",
        "    def skills(self):\n",
        "        return \"Driving\"\n",
        "\n",
        "class Mother:\n",
        "    def skills(self):\n",
        "        return \"Cooking\"\n",
        "\n",
        "class Child(Father, Mother):\n",
        "    pass\n",
        "\n",
        "c = Child()\n",
        "print(c.skills())  # Resolves using Method Resolution Order (MRO)\n"
      ],
      "metadata": {
        "colab": {
          "base_uri": "https://localhost:8080/"
        },
        "id": "7DV2PeP0LmTl",
        "outputId": "3dd9aa39-0cf5-4dcc-f42d-14798256173f"
      },
      "execution_count": null,
      "outputs": [
        {
          "output_type": "stream",
          "name": "stdout",
          "text": [
            "Driving\n"
          ]
        }
      ]
    },
    {
      "cell_type": "markdown",
      "source": [
        "### Q19 Explain the purpose of __str__ and __repr__ methods in Python.\n",
        "\n",
        "**Answer:**\n",
        "\n",
        "__str__ → Returns a human-readable string representation of an object (used with print()).\n",
        "\n",
        "__repr__ → Returns an unambiguous string (used for debugging, developers).\n",
        "\n",
        "If __str__ is not defined, Python falls back to __repr__.\n",
        "\n",
        "**Code Example:**"
      ],
      "metadata": {
        "id": "L1DQrvKtLqvD"
      }
    },
    {
      "cell_type": "code",
      "source": [
        "class Book:\n",
        "    def __init__(self, title):\n",
        "        self.title = title\n",
        "\n",
        "    def __str__(self):\n",
        "        return f\"Book Title: {self.title}\"   # User-friendly\n",
        "\n",
        "    def __repr__(self):\n",
        "        return f\"Book('{self.title}')\"       # Debug-friendly\n",
        "\n",
        "b = Book(\"Python Basics\")\n",
        "print(str(b))   # Calls __str__\n",
        "print(repr(b))  # Calls __repr__"
      ],
      "metadata": {
        "colab": {
          "base_uri": "https://localhost:8080/"
        },
        "id": "3p1Q2Mq8L3uq",
        "outputId": "da374294-dc37-4e54-81be-f614702a01b2"
      },
      "execution_count": null,
      "outputs": [
        {
          "output_type": "stream",
          "name": "stdout",
          "text": [
            "Book Title: Python Basics\n",
            "Book('Python Basics')\n"
          ]
        }
      ]
    },
    {
      "cell_type": "markdown",
      "source": [
        "### Q20 What is the significance of the super() function in Python?\n",
        "\n",
        "**Answer:**\n",
        "The super() function is used to call methods of the parent class in a child class.\n",
        "It is commonly used to initialize parent class constructors and reuse methods without explicitly naming the parent class.\n",
        "\n",
        "**Code Example**:"
      ],
      "metadata": {
        "id": "5V1f3HHaMBPs"
      }
    },
    {
      "cell_type": "code",
      "source": [
        "class Parent:\n",
        "    def __init__(self, name):\n",
        "        self.name = name\n",
        "\n",
        "class Child(Parent):\n",
        "    def __init__(self, name, age):\n",
        "        super().__init__(name)   # Calls Parent constructor\n",
        "        self.age = age\n",
        "\n",
        "c = Child(\"Maria\", 22)\n",
        "print(c.name, c.age)"
      ],
      "metadata": {
        "colab": {
          "base_uri": "https://localhost:8080/"
        },
        "id": "_OlkFOv2L-eF",
        "outputId": "7cd9f54a-d82c-4a81-b591-de5121a926e3"
      },
      "execution_count": null,
      "outputs": [
        {
          "output_type": "stream",
          "name": "stdout",
          "text": [
            "Maria 22\n"
          ]
        }
      ]
    },
    {
      "cell_type": "markdown",
      "source": [
        "###Q21 What is the significance of the `__del__` method in Python?\n",
        "\n",
        "**Answer:**  \n",
        "- The `__del__` method is called a **destructor** in Python.  \n",
        "- It is automatically invoked when an object is about to be destroyed (i.e., garbage collected).  \n",
        "- It is mainly used to **release resources** such as closing files or database connections.  \n",
        "\n",
        "**Code Example:**"
      ],
      "metadata": {
        "id": "dBGs6AdxOYnI"
      }
    },
    {
      "cell_type": "code",
      "source": [
        "class Demo:\n",
        "    def __init__(self, name):\n",
        "        self.name = name\n",
        "        print(f\"{self.name} created\")\n",
        "\n",
        "    def __del__(self):\n",
        "        print(f\"{self.name} destroyed\")\n",
        "\n",
        "obj = Demo(\"Object1\")\n",
        "del obj"
      ],
      "metadata": {
        "colab": {
          "base_uri": "https://localhost:8080/"
        },
        "id": "45cf6VYWOdRX",
        "outputId": "4687d65c-8e48-40ed-b051-1af6a58573b1"
      },
      "execution_count": null,
      "outputs": [
        {
          "output_type": "stream",
          "name": "stdout",
          "text": [
            "Object1 created\n",
            "Object1 destroyed\n"
          ]
        }
      ]
    },
    {
      "cell_type": "markdown",
      "source": [
        "###Q22 What is the difference between @staticmethod and @classmethod in Python?\n",
        "\n",
        "Answer:\n",
        "\n",
        "Feature\t@staticmethod\t@classmethod\n",
        "First Parameter\tNo self or cls\tTakes cls as first parameter\n",
        "Access\tCannot access instance or class variables\tCan access and modify class variables\n",
        "Usage\tUtility functions (independent of class)\tFunctions related to class-level data\n",
        "\n",
        "**Code Example:**"
      ],
      "metadata": {
        "id": "DHZDDtYzOldx"
      }
    },
    {
      "cell_type": "code",
      "source": [
        "class Example:\n",
        "    class_var = \"Class Variable\"\n",
        "\n",
        "    @staticmethod\n",
        "    def add(a, b):\n",
        "        return a + b\n",
        "\n",
        "    @classmethod\n",
        "    def show_class(cls):\n",
        "        return cls.class_var\n",
        "\n",
        "print(Example.add(3, 4))        # 7\n",
        "print(Example.show_class())     # Class Variable"
      ],
      "metadata": {
        "colab": {
          "base_uri": "https://localhost:8080/"
        },
        "id": "x_E5-Sk9PDyj",
        "outputId": "bba3ba06-f16b-4152-d610-47e8848a0629"
      },
      "execution_count": null,
      "outputs": [
        {
          "output_type": "stream",
          "name": "stdout",
          "text": [
            "7\n",
            "Class Variable\n"
          ]
        }
      ]
    },
    {
      "cell_type": "markdown",
      "source": [
        "###Q23 How does Polymorphism work in Python with Inheritance?\n",
        "\n",
        "Answer:\n",
        "Polymorphism in inheritance allows a child class to provide its own implementation of a method already defined in the parent class.\n",
        "This enables the same method call to behave differently depending on the object.\n",
        "\n",
        "**Code Example:**"
      ],
      "metadata": {
        "id": "yyiSiC_EPFLd"
      }
    },
    {
      "cell_type": "code",
      "source": [
        "class Animal:\n",
        "    def speak(self):\n",
        "        return \"Some sound\"\n",
        "\n",
        "class Dog(Animal):\n",
        "    def speak(self):\n",
        "        return \"Bark\"\n",
        "\n",
        "class Cat(Animal):\n",
        "    def speak(self):\n",
        "        return \"Meow\"\n",
        "\n",
        "animals = [Dog(), Cat()]\n",
        "for a in animals:\n",
        "    print(a.speak())"
      ],
      "metadata": {
        "colab": {
          "base_uri": "https://localhost:8080/"
        },
        "id": "5F_KQ75-PKYi",
        "outputId": "33feef0f-fa53-429b-c3f2-64faa635760c"
      },
      "execution_count": null,
      "outputs": [
        {
          "output_type": "stream",
          "name": "stdout",
          "text": [
            "Bark\n",
            "Meow\n"
          ]
        }
      ]
    },
    {
      "cell_type": "markdown",
      "source": [
        "###Q24 What is Method Chaining in Python OOP?\n",
        "\n",
        "**Answer:**\n",
        "\n",
        "Method chaining means calling multiple methods on the same object in a single line.\n",
        "\n",
        "Each method must return self to allow chaining.\n",
        "\n",
        "**Code Example:**"
      ],
      "metadata": {
        "id": "xpQZcdSAP3Gd"
      }
    },
    {
      "cell_type": "code",
      "source": [
        "class Calculator:\n",
        "    def __init__(self, value=0):\n",
        "        self.value = value\n",
        "\n",
        "    def add(self, num):\n",
        "        self.value += num\n",
        "        return self\n",
        "\n",
        "    def subtract(self, num):\n",
        "        self.value -= num\n",
        "        return self\n",
        "\n",
        "    def result(self):\n",
        "        return self.value\n",
        "\n",
        "calc = Calculator()\n",
        "print(calc.add(10).subtract(3).add(5).result())"
      ],
      "metadata": {
        "colab": {
          "base_uri": "https://localhost:8080/"
        },
        "id": "yjQdSaZ0QCVL",
        "outputId": "016e1a2a-cca0-4354-9e74-c0dc8147fca3"
      },
      "execution_count": null,
      "outputs": [
        {
          "output_type": "stream",
          "name": "stdout",
          "text": [
            "12\n"
          ]
        }
      ]
    },
    {
      "cell_type": "markdown",
      "source": [
        "###Q25 What is the purpose of the call method in Python?\n",
        "\n",
        "**Answer:**\n",
        "\n",
        "The call method allows a class object to be called like a function.\n",
        "\n",
        "When defined, calling the object executes the call method.\n",
        "\n",
        "**Code Example:**"
      ],
      "metadata": {
        "id": "DgcUGAnwQKPp"
      }
    },
    {
      "cell_type": "code",
      "source": [
        "class Greeting:\n",
        "    def __call__(self, name):\n",
        "        return f\"Hello, {name}!\"\n",
        "\n",
        "g = Greeting()\n",
        "print(g(\"Maria\"))   # Object behaves like a function"
      ],
      "metadata": {
        "colab": {
          "base_uri": "https://localhost:8080/"
        },
        "id": "vLfpynHvQfFz",
        "outputId": "3fe4acee-2592-47a9-c437-aa3b1de34ec2"
      },
      "execution_count": null,
      "outputs": [
        {
          "output_type": "stream",
          "name": "stdout",
          "text": [
            "Hello, Maria!\n"
          ]
        }
      ]
    },
    {
      "cell_type": "markdown",
      "source": [
        "###***Practical Questions***"
      ],
      "metadata": {
        "id": "Jgs0X32yRkzu"
      }
    },
    {
      "cell_type": "markdown",
      "source": [
        "### Q1. Create a parent class `Animal` with a method `speak()` that prints a generic message. Create a child class `Dog` that overrides the `speak()` method to print \"Woof!\".\n",
        "\n",
        "**Answer:**  \n",
        "This demonstrates **inheritance** and **method overriding**.  \n",
        "\n",
        "**Code Example:**  "
      ],
      "metadata": {
        "id": "2RF1wSMVRrCO"
      }
    },
    {
      "cell_type": "code",
      "source": [
        "class Animal:\n",
        "    def speak(self):\n",
        "        print(\"This is an animal sound.\")\n",
        "\n",
        "class Dog(Animal):\n",
        "    def speak(self):\n",
        "        print(\"Woof!\")\n",
        "\n",
        "a = Animal()\n",
        "a.speak()\n",
        "\n",
        "d = Dog()\n",
        "d.speak()"
      ],
      "metadata": {
        "colab": {
          "base_uri": "https://localhost:8080/"
        },
        "id": "-xdI172ZRtfH",
        "outputId": "b3d460d2-022c-40b9-b338-a32c6c9eec3f"
      },
      "execution_count": null,
      "outputs": [
        {
          "output_type": "stream",
          "name": "stdout",
          "text": [
            "This is an animal sound.\n",
            "Woof!\n"
          ]
        }
      ]
    },
    {
      "cell_type": "markdown",
      "source": [
        "###Q2 Write a program to create an abstract class Shape with a method area(). Derive classes Circle and Rectangle from it and implement the area() method in both.\n",
        "\n",
        "**Answer:**\n",
        "\n",
        "This demonstrates abstraction and implementation in derived classes.\n",
        "\n",
        "**Code Example:**"
      ],
      "metadata": {
        "id": "JEQ-XYCRR5MU"
      }
    },
    {
      "cell_type": "code",
      "source": [
        "from abc import ABC, abstractmethod\n",
        "import math\n",
        "\n",
        "class Shape(ABC):\n",
        "    @abstractmethod\n",
        "    def area(self):\n",
        "        pass\n",
        "\n",
        "class Circle(Shape):\n",
        "    def __init__(self, radius):\n",
        "        self.radius = radius\n",
        "\n",
        "    def area(self):\n",
        "        return math.pi * self.radius ** 2\n",
        "\n",
        "class Rectangle(Shape):\n",
        "    def __init__(self, length, width):\n",
        "        self.length = length\n",
        "        self.width = width\n",
        "\n",
        "    def area(self):\n",
        "        return self.length * self.width\n",
        "\n",
        "c = Circle(5)\n",
        "r = Rectangle(4, 6)\n",
        "\n",
        "print(\"Circle Area:\", c.area())\n",
        "print(\"Rectangle Area:\", r.area())\n"
      ],
      "metadata": {
        "colab": {
          "base_uri": "https://localhost:8080/"
        },
        "id": "lgSfH9cPSFJO",
        "outputId": "52049625-3b2a-41d8-c80e-44db5db1b818"
      },
      "execution_count": null,
      "outputs": [
        {
          "output_type": "stream",
          "name": "stdout",
          "text": [
            "Circle Area: 78.53981633974483\n",
            "Rectangle Area: 24\n"
          ]
        }
      ]
    },
    {
      "cell_type": "markdown",
      "source": [
        "###Q3. Implement a multi-level inheritance scenario where a class Vehicle has an attribute type. Derive a class Car and further derive a class ElectricCar that adds a battery attribute.\n",
        "\n",
        "**Answer:**\n",
        "\n",
        "This demonstrates multi-level inheritance.\n",
        "\n",
        "**Code Example:**"
      ],
      "metadata": {
        "id": "ullpOMHXSLcS"
      }
    },
    {
      "cell_type": "code",
      "source": [
        "class Vehicle:\n",
        "    def __init__(self, v_type):\n",
        "        self.v_type = v_type\n",
        "\n",
        "class Car(Vehicle):\n",
        "    def __init__(self, v_type, brand):\n",
        "        super().__init__(v_type)\n",
        "        self.brand = brand\n",
        "\n",
        "class ElectricCar(Car):\n",
        "    def __init__(self, v_type, brand, battery):\n",
        "        super().__init__(v_type, brand)\n",
        "        self.battery = battery\n",
        "\n",
        "ecar = ElectricCar(\"Four-Wheeler\", \"Tesla\", \"100 kWh\")\n",
        "print(f\"Type: {ecar.v_type}, Brand: {ecar.brand}, Battery: {ecar.battery}\")\n"
      ],
      "metadata": {
        "colab": {
          "base_uri": "https://localhost:8080/"
        },
        "id": "Oj-_SCYzSRtp",
        "outputId": "2562a170-da55-49fa-8651-b70f52fce60d"
      },
      "execution_count": null,
      "outputs": [
        {
          "output_type": "stream",
          "name": "stdout",
          "text": [
            "Type: Four-Wheeler, Brand: Tesla, Battery: 100 kWh\n"
          ]
        }
      ]
    },
    {
      "cell_type": "markdown",
      "source": [
        "###Q4. Demonstrate polymorphism by creating a base class Bird with a method fly(). Create two derived classes Sparrow and Penguin that override the fly() method.\n",
        "\n",
        "**Answer:**\n",
        "\n",
        "This demonstrates polymorphism using method overriding.\n",
        "\n",
        "**Code Example:**"
      ],
      "metadata": {
        "id": "Md35rTzJSWxN"
      }
    },
    {
      "cell_type": "code",
      "source": [
        "class Bird:\n",
        "    def fly(self):\n",
        "        print(\"Birds can fly.\")\n",
        "\n",
        "class Sparrow(Bird):\n",
        "    def fly(self):\n",
        "        print(\"Sparrow flies high in the sky.\")\n",
        "\n",
        "class Penguin(Bird):\n",
        "    def fly(self):\n",
        "        print(\"Penguins cannot fly.\")\n",
        "\n",
        "birds = [Sparrow(), Penguin()]\n",
        "for b in birds:\n",
        "    b.fly()\n"
      ],
      "metadata": {
        "colab": {
          "base_uri": "https://localhost:8080/"
        },
        "id": "PjyELImNSewp",
        "outputId": "bfcc2596-bcb0-4e8b-f39a-007af1a7ef12"
      },
      "execution_count": null,
      "outputs": [
        {
          "output_type": "stream",
          "name": "stdout",
          "text": [
            "Sparrow flies high in the sky.\n",
            "Penguins cannot fly.\n"
          ]
        }
      ]
    },
    {
      "cell_type": "markdown",
      "source": [
        "###Q5. Write a program to demonstrate encapsulation by creating a class BankAccount with private attributes balance and methods to deposit, withdraw, and check balance.\n",
        "\n",
        "**Answer:**\n",
        "This demonstrates encapsulation by making attributes private and accessing them through methods.\n",
        "\n",
        "**Code Example:**"
      ],
      "metadata": {
        "id": "QJGKiCy1Shoi"
      }
    },
    {
      "cell_type": "code",
      "source": [
        "class BankAccount:\n",
        "    def __init__(self, balance=0):\n",
        "        self.__balance = balance   # Private attribute\n",
        "\n",
        "    def deposit(self, amount):\n",
        "        if amount > 0:\n",
        "            self.__balance += amount\n",
        "            print(f\"Deposited: {amount}\")\n",
        "\n",
        "    def withdraw(self, amount):\n",
        "        if 0 < amount <= self.__balance:\n",
        "            self.__balance -= amount\n",
        "            print(f\"Withdrawn: {amount}\")\n",
        "        else:\n",
        "            print(\"Insufficient balance or invalid amount.\")\n",
        "\n",
        "    def get_balance(self):\n",
        "        return self.__balance\n",
        "\n",
        "account = BankAccount(1000)\n",
        "account.deposit(500)\n",
        "account.withdraw(300)\n",
        "print(\"Balance:\", account.get_balance())"
      ],
      "metadata": {
        "colab": {
          "base_uri": "https://localhost:8080/"
        },
        "id": "4fuGGR7zSpS2",
        "outputId": "4cefd3f1-44b2-41c3-d51c-1bff19e4d360"
      },
      "execution_count": null,
      "outputs": [
        {
          "output_type": "stream",
          "name": "stdout",
          "text": [
            "Deposited: 500\n",
            "Withdrawn: 300\n",
            "Balance: 1200\n"
          ]
        }
      ]
    },
    {
      "cell_type": "markdown",
      "source": [
        "### Q6. Demonstrate runtime polymorphism using a method `play()` in a base class `Instrument`. Derive classes `Guitar` and `Piano` that implement their own version of `play()`.\n",
        "\n",
        "**Answer:**  \n",
        "This demonstrates **runtime polymorphism** through **method overriding**.  \n",
        "\n",
        "**Code Example:**  "
      ],
      "metadata": {
        "id": "hDtwN0vJStzz"
      }
    },
    {
      "cell_type": "code",
      "source": [
        "class Instrument:\n",
        "    def play(self):\n",
        "        print(\"Instrument is playing.\")\n",
        "\n",
        "class Guitar(Instrument):\n",
        "    def play(self):\n",
        "        print(\"Strumming the guitar.\")\n",
        "\n",
        "class Piano(Instrument):\n",
        "    def play(self):\n",
        "        print(\"Playing the piano.\")\n",
        "\n",
        "instruments = [Guitar(), Piano()]\n",
        "for i in instruments:\n",
        "    i.play()"
      ],
      "metadata": {
        "colab": {
          "base_uri": "https://localhost:8080/"
        },
        "id": "4iFy0eheTcs7",
        "outputId": "824d71a8-7e2f-40d6-b4b6-193e29c1cb41"
      },
      "execution_count": null,
      "outputs": [
        {
          "output_type": "stream",
          "name": "stdout",
          "text": [
            "Strumming the guitar.\n",
            "Playing the piano.\n"
          ]
        }
      ]
    },
    {
      "cell_type": "markdown",
      "source": [
        "###Q7. Create a class MathOperations with a class method add_numbers() to add two numbers and a static method subtract_numbers() to subtract two numbers.\n",
        "\n",
        "**Answer:**\n",
        "This demonstrates the difference between class methods and static methods.\n",
        "\n",
        "**Code Example:**"
      ],
      "metadata": {
        "id": "Y2VKE6SkTgtu"
      }
    },
    {
      "cell_type": "code",
      "source": [
        "class MathOperations:\n",
        "    @classmethod\n",
        "    def add_numbers(cls, a, b):\n",
        "        return a + b\n",
        "\n",
        "    @staticmethod\n",
        "    def subtract_numbers(a, b):\n",
        "        return a - b\n",
        "\n",
        "print(\"Addition:\", MathOperations.add_numbers(10, 5))\n",
        "print(\"Subtraction:\", MathOperations.subtract_numbers(10, 5))\n"
      ],
      "metadata": {
        "colab": {
          "base_uri": "https://localhost:8080/"
        },
        "id": "DkDELGmBTmPZ",
        "outputId": "af0c3467-ecfb-4c27-9754-ec3002f94907"
      },
      "execution_count": null,
      "outputs": [
        {
          "output_type": "stream",
          "name": "stdout",
          "text": [
            "Addition: 15\n",
            "Subtraction: 5\n"
          ]
        }
      ]
    },
    {
      "cell_type": "markdown",
      "source": [
        "###Q8. Implement a class Person with a class method to count the total number of persons created.\n",
        "\n",
        "**Answer:**\n",
        "This demonstrates class variables and class methods.\n",
        "\n",
        "**Code Example:**"
      ],
      "metadata": {
        "id": "TTXnohijTqp-"
      }
    },
    {
      "cell_type": "code",
      "source": [
        "class Person:\n",
        "    count = 0\n",
        "\n",
        "    def __init__(self, name):\n",
        "        self.name = name\n",
        "        Person.count += 1\n",
        "\n",
        "    @classmethod\n",
        "    def total_persons(cls):\n",
        "        return cls.count\n",
        "\n",
        "p1 = Person(\"Maria\")\n",
        "p2 = Person(\"Alex\")\n",
        "p3 = Person(\"John\")\n",
        "\n",
        "print(\"Total Persons:\", Person.total_persons())\n"
      ],
      "metadata": {
        "colab": {
          "base_uri": "https://localhost:8080/"
        },
        "id": "FnpuKExLTzy7",
        "outputId": "8fdc8d34-fd5e-4257-9736-1a3b6425b849"
      },
      "execution_count": null,
      "outputs": [
        {
          "output_type": "stream",
          "name": "stdout",
          "text": [
            "Total Persons: 3\n"
          ]
        }
      ]
    },
    {
      "cell_type": "markdown",
      "source": [
        "###Q9. Write a class Fraction with attributes numerator and denominator. Override the __str__ method to display the fraction as \"numerator/denominator\".\n",
        "\n",
        "**Answer:**\n",
        "This demonstrates method overriding of dunder methods (__str__).\n",
        "\n",
        "**Code Example:**"
      ],
      "metadata": {
        "id": "rMDbZrLiT2vs"
      }
    },
    {
      "cell_type": "code",
      "source": [
        "class Fraction:\n",
        "    def __init__(self, numerator, denominator):\n",
        "        self.numerator = numerator\n",
        "        self.denominator = denominator\n",
        "\n",
        "    def __str__(self):\n",
        "        return f\"{self.numerator}/{self.denominator}\"\n",
        "\n",
        "f1 = Fraction(3, 4)\n",
        "print(f1)\n"
      ],
      "metadata": {
        "colab": {
          "base_uri": "https://localhost:8080/"
        },
        "id": "dODruE25T9Kw",
        "outputId": "ec44d5a7-bee8-4ee1-d0a2-066fb6ccc291"
      },
      "execution_count": null,
      "outputs": [
        {
          "output_type": "stream",
          "name": "stdout",
          "text": [
            "3/4\n"
          ]
        }
      ]
    },
    {
      "cell_type": "markdown",
      "source": [
        "###Q10. Demonstrate operator overloading by creating a class Vector and overriding the __add__ method to add two vectors.\n",
        "\n",
        "**Answer:**\n",
        "\n",
        "This demonstrates operator overloading by redefining the + operator.\n",
        "\n",
        "**Code Example:**"
      ],
      "metadata": {
        "id": "1V8vXQxjUAfj"
      }
    },
    {
      "cell_type": "code",
      "source": [
        "class Vector:\n",
        "    def __init__(self, x, y):\n",
        "        self.x = x\n",
        "        self.y = y\n",
        "\n",
        "    def __add__(self, other):\n",
        "        return Vector(self.x + other.x, self.y + other.y)\n",
        "\n",
        "    def __str__(self):\n",
        "        return f\"({self.x}, {self.y})\"\n",
        "\n",
        "v1 = Vector(2, 3)\n",
        "v2 = Vector(4, 1)\n",
        "v3 = v1 + v2\n",
        "print(v3)\n"
      ],
      "metadata": {
        "colab": {
          "base_uri": "https://localhost:8080/"
        },
        "id": "slttlwBvUG9L",
        "outputId": "799fa5d0-19dc-41b6-9b0c-aab857e80d6a"
      },
      "execution_count": null,
      "outputs": [
        {
          "output_type": "stream",
          "name": "stdout",
          "text": [
            "(6, 4)\n"
          ]
        }
      ]
    },
    {
      "cell_type": "markdown",
      "source": [
        "### Q11. Create a class `Person` with attributes `name` and `age`. Add a method `greet()` that prints \"Hello, my name is {name} and I am {age} years old.\"\n",
        "\n",
        "**Answer:**  \n",
        "This demonstrates **basic class creation and instance methods**.  \n",
        "\n",
        "**Code Example:**  "
      ],
      "metadata": {
        "id": "7pqNM2B-UWmN"
      }
    },
    {
      "cell_type": "code",
      "source": [
        "class Person:\n",
        "    def __init__(self, name, age):\n",
        "        self.name = name\n",
        "        self.age = age\n",
        "\n",
        "    def greet(self):\n",
        "        print(f\"Hello, my name is {self.name} and I am {self.age} years old.\")\n",
        "\n",
        "p = Person(\"Maria\", 22)\n",
        "p.greet()"
      ],
      "metadata": {
        "colab": {
          "base_uri": "https://localhost:8080/"
        },
        "id": "BibehcW4U0hR",
        "outputId": "5f298574-a8c4-4400-8776-e53a86b5f8e8"
      },
      "execution_count": null,
      "outputs": [
        {
          "output_type": "stream",
          "name": "stdout",
          "text": [
            "Hello, my name is Maria and I am 22 years old.\n"
          ]
        }
      ]
    },
    {
      "cell_type": "markdown",
      "source": [
        "###Q12. Implement a class Student with attributes name and grades. Create a method average_grade() to compute the average of the grades.\n",
        "\n",
        "**Answer:**\n",
        "This demonstrates list handling in a class and computing averages.\n",
        "\n",
        "**Code Example:**"
      ],
      "metadata": {
        "id": "pqyeVobKU4eM"
      }
    },
    {
      "cell_type": "code",
      "source": [
        "class Student:\n",
        "    def __init__(self, name, grades):\n",
        "        self.name = name\n",
        "        self.grades = grades\n",
        "\n",
        "    def average_grade(self):\n",
        "        return sum(self.grades) / len(self.grades)\n",
        "\n",
        "s = Student(\"Alex\", [85, 90, 78, 92])\n",
        "print(\"Average Grade:\", s.average_grade())\n"
      ],
      "metadata": {
        "colab": {
          "base_uri": "https://localhost:8080/"
        },
        "id": "iAdKf81KU-iy",
        "outputId": "9a79e5e7-ebdd-4762-b3bb-488986ce6e3e"
      },
      "execution_count": null,
      "outputs": [
        {
          "output_type": "stream",
          "name": "stdout",
          "text": [
            "Average Grade: 86.25\n"
          ]
        }
      ]
    },
    {
      "cell_type": "markdown",
      "source": [
        "###Q13. Create a class Rectangle with methods set_dimensions() to set the dimensions and area() to calculate the area.\n",
        "\n",
        "**Answer:**\n",
        "This demonstrates instance methods for setting and calculating values.\n",
        "\n",
        "**Code Example:**"
      ],
      "metadata": {
        "id": "jrSAVuneVUqL"
      }
    },
    {
      "cell_type": "code",
      "source": [
        "class Rectangle:\n",
        "    def set_dimensions(self, length, width):\n",
        "        self.length = length\n",
        "        self.width = width\n",
        "\n",
        "    def area(self):\n",
        "        return self.length * self.width\n",
        "\n",
        "r = Rectangle()\n",
        "r.set_dimensions(5, 3)\n",
        "print(\"Area of Rectangle:\", r.area())\n"
      ],
      "metadata": {
        "colab": {
          "base_uri": "https://localhost:8080/"
        },
        "id": "8rC_RzbIVaCy",
        "outputId": "5bbfb553-76c1-4ffd-f6e4-992bd659bd42"
      },
      "execution_count": null,
      "outputs": [
        {
          "output_type": "stream",
          "name": "stdout",
          "text": [
            "Area of Rectangle: 15\n"
          ]
        }
      ]
    },
    {
      "cell_type": "markdown",
      "source": [
        "###Q14. Create a class Employee with a method calculate_salary() that computes the salary based on hours worked and hourly rate. Create a derived class Manager that adds a bonus to the salary.\n",
        "\n",
        "**Answer:**\n",
        "This demonstrates inheritance and method extension in subclasses.\n",
        "\n",
        "**Code Example:**"
      ],
      "metadata": {
        "id": "OccPfVoAVc4L"
      }
    },
    {
      "cell_type": "code",
      "source": [
        "class Employee:\n",
        "    def __init__(self, hours, rate):\n",
        "        self.hours = hours\n",
        "        self.rate = rate\n",
        "\n",
        "    def calculate_salary(self):\n",
        "        return self.hours * self.rate\n",
        "\n",
        "class Manager(Employee):\n",
        "    def __init__(self, hours, rate, bonus):\n",
        "        super().__init__(hours, rate)\n",
        "        self.bonus = bonus\n",
        "\n",
        "    def calculate_salary(self):\n",
        "        return super().calculate_salary() + self.bonus\n",
        "\n",
        "e = Employee(40, 20)\n",
        "m = Manager(40, 30, 200)\n",
        "\n",
        "print(\"Employee Salary:\", e.calculate_salary())\n",
        "print(\"Manager Salary:\", m.calculate_salary())\n"
      ],
      "metadata": {
        "colab": {
          "base_uri": "https://localhost:8080/"
        },
        "id": "GiatjzCbVjiP",
        "outputId": "4170af59-5440-4a43-8bf7-81a9c7605bdc"
      },
      "execution_count": null,
      "outputs": [
        {
          "output_type": "stream",
          "name": "stdout",
          "text": [
            "Employee Salary: 800\n",
            "Manager Salary: 1400\n"
          ]
        }
      ]
    },
    {
      "cell_type": "markdown",
      "source": [
        "###Q15. Create a class Product with attributes name, price, and quantity. Implement a method total_price() that calculates the total price of the product.\n",
        "\n",
        "**Answer:**\n",
        "This demonstrates object attributes and simple calculations.\n",
        "\n",
        "**Code Example:**"
      ],
      "metadata": {
        "id": "NQvtpfcwVncd"
      }
    },
    {
      "cell_type": "code",
      "source": [
        "class Product:\n",
        "    def __init__(self, name, price, quantity):\n",
        "        self.name = name\n",
        "        self.price = price\n",
        "        self.quantity = quantity\n",
        "\n",
        "    def total_price(self):\n",
        "        return self.price * self.quantity\n",
        "\n",
        "p = Product(\"Laptop\", 50000, 2)\n",
        "print(\"Total Price:\", p.total_price())\n"
      ],
      "metadata": {
        "colab": {
          "base_uri": "https://localhost:8080/"
        },
        "id": "ILRYPsfVVuQB",
        "outputId": "197b60fa-dddc-45b9-ebb7-1cb5f7f493d5"
      },
      "execution_count": null,
      "outputs": [
        {
          "output_type": "stream",
          "name": "stdout",
          "text": [
            "Total Price: 100000\n"
          ]
        }
      ]
    },
    {
      "cell_type": "markdown",
      "source": [
        "### Q16. Create a class `Animal` with an abstract method `sound()`. Create two derived classes `Cow` and `Sheep` that implement the `sound()` method.\n",
        "\n",
        "**Answer:**  \n",
        "This demonstrates **abstraction** using the `abc` module and **method implementation in derived classes**.  \n",
        "\n",
        "**Code Example:**  "
      ],
      "metadata": {
        "id": "QEhccsqyWCdo"
      }
    },
    {
      "cell_type": "code",
      "source": [
        "class Animal(ABC):\n",
        "    @abstractmethod\n",
        "    def sound(self):\n",
        "        pass\n",
        "\n",
        "class Cow(Animal):\n",
        "    def sound(self):\n",
        "        return \"Moo\"\n",
        "\n",
        "class Sheep(Animal):\n",
        "    def sound(self):\n",
        "        return \"Baa\"\n",
        "\n",
        "c = Cow()\n",
        "s = Sheep()\n",
        "\n",
        "print(\"Cow:\", c.sound())\n",
        "print(\"Sheep:\", s.sound())"
      ],
      "metadata": {
        "colab": {
          "base_uri": "https://localhost:8080/"
        },
        "id": "l18FffVmWEPj",
        "outputId": "c4a2f3f6-8d39-4896-de05-b02c4c17c4a5"
      },
      "execution_count": null,
      "outputs": [
        {
          "output_type": "stream",
          "name": "stdout",
          "text": [
            "Cow: Moo\n",
            "Sheep: Baa\n"
          ]
        }
      ]
    },
    {
      "cell_type": "markdown",
      "source": [
        "###Q17. Create a class Book with attributes title, author, and year_published. Add a method get_book_info() that returns a formatted string with the book's details.\n",
        "\n",
        "**Answer:**\n",
        "This demonstrates object attributes and returning formatted data from a method.\n",
        "\n",
        "**Code Example:**"
      ],
      "metadata": {
        "id": "Jfv_ma9eWKh8"
      }
    },
    {
      "cell_type": "code",
      "source": [
        "class Book:\n",
        "    def __init__(self, title, author, year_published):\n",
        "        self.title = title\n",
        "        self.author = author\n",
        "        self.year_published = year_published\n",
        "\n",
        "    def get_book_info(self):\n",
        "        return f\"'{self.title}' by {self.author}, published in {self.year_published}\"\n",
        "\n",
        "b = Book(\"Python Programming\", \"John Smith\", 2021)\n",
        "print(b.get_book_info())\n"
      ],
      "metadata": {
        "colab": {
          "base_uri": "https://localhost:8080/"
        },
        "id": "1KEEGjPGWV6p",
        "outputId": "a7b1eed9-5db6-41c3-b1d4-794a36c635ba"
      },
      "execution_count": null,
      "outputs": [
        {
          "output_type": "stream",
          "name": "stdout",
          "text": [
            "'Python Programming' by John Smith, published in 2021\n"
          ]
        }
      ]
    },
    {
      "cell_type": "markdown",
      "source": [
        "###Q18. Create a class House with attributes address and price. Create a derived class Mansion that adds an attribute number_of_rooms.\n",
        "\n",
        "**Answer:**\n",
        "This demonstrates inheritance and adding new attributes in a child class.\n",
        "\n",
        "**Code Example:**"
      ],
      "metadata": {
        "id": "MJarYlrkWZyU"
      }
    },
    {
      "cell_type": "code",
      "source": [
        "class House:\n",
        "    def __init__(self, address, price):\n",
        "        self.address = address\n",
        "        self.price = price\n",
        "\n",
        "class Mansion(House):\n",
        "    def __init__(self, address, price, number_of_rooms):\n",
        "        super().__init__(address, price)\n",
        "        self.number_of_rooms = number_of_rooms\n",
        "\n",
        "m = Mansion(\"123 Park Lane\", 5000000, 12)\n",
        "print(f\"Address: {m.address}, Price: {m.price}, Rooms: {m.number_of_rooms}\")"
      ],
      "metadata": {
        "colab": {
          "base_uri": "https://localhost:8080/"
        },
        "id": "oHSJF_XqWfUU",
        "outputId": "8c892e41-4a30-47d2-f538-d32942049909"
      },
      "execution_count": null,
      "outputs": [
        {
          "output_type": "stream",
          "name": "stdout",
          "text": [
            "Address: 123 Park Lane, Price: 5000000, Rooms: 12\n"
          ]
        }
      ]
    }
  ]
}